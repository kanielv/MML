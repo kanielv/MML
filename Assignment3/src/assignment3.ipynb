{
 "cells": [
  {
   "cell_type": "code",
   "execution_count": null,
   "metadata": {},
   "outputs": [],
   "source": []
  },
  {
   "attachments": {},
   "cell_type": "markdown",
   "metadata": {},
   "source": [
    "### Step 1: Data Pre-Processing and Exploration"
   ]
  },
  {
   "cell_type": "code",
   "execution_count": null,
   "metadata": {},
   "outputs": [],
   "source": [
    "# Create Annotation File from the dataset\n",
    "\n",
    "from utils.create_dataset import create_annotation_file\n",
    "fp = \"./../data_folder/\"\n",
    "create_annotation_file(fp)\n"
   ]
  },
  {
   "cell_type": "code",
   "execution_count": null,
   "metadata": {},
   "outputs": [],
   "source": [
    "# Create Test Train Split out of dataset\n",
    "from utils.create_dataset import get_annotations_types, get_annotations\n",
    "df = get_annotations('../dataset/annotations.csv')\n",
    "types = get_annotations_types(df)\n",
    "\n",
    "samples = []\n",
    "for type in types:\n",
    "    df = type.sample(n=2)\n",
    "    samples.append(df)\n",
    "\n",
    "print(samples)"
   ]
  },
  {
   "cell_type": "code",
   "execution_count": 15,
   "metadata": {},
   "outputs": [
    {
     "name": "stdout",
     "output_type": "stream",
     "text": [
      "['YAF_sell_angry.wav' 'YAF_week_angry.wav' 'YAF_merge_angry.wav'\n",
      " 'YAF_read_angry.wav' 'YAF_thin_angry.wav' 'YAF_wag_angry.wav'\n",
      " 'YAF_talk_angry.wav' 'YAF_rose_angry.wav' 'YAF_when_angry.wav'\n",
      " 'YAF_pearl_angry.wav' 'YAF_tape_angry.wav' 'YAF_yes_angry.wav'\n",
      " 'YAF_sub_angry.wav' 'YAF_reach_angry.wav' 'YAF_rag_angry.wav'\n",
      " 'YAF_road_angry.wav' 'YAF_nice_angry.wav' 'YAF_soup_angry.wav'\n",
      " 'YAF_south_angry.wav' 'YAF_mop_angry.wav' 'YAF_mess_angry.wav'\n",
      " 'YAF_note_angry.wav' 'YAF_rough_angry.wav' 'YAF_peg_angry.wav'\n",
      " 'YAF_raise_angry.wav' 'YAF_such_angry.wav' 'YAF_puff_angry.wav'\n",
      " 'YAF_tip_angry.wav' 'YAF_yearn_angry.wav' 'YAF_neat_angry.wav']\n"
     ]
    }
   ],
   "source": [
    "import numpy as np\n",
    "import pandas as pd\n",
    "from utils.create_dataset import get_annotations_types, get_annotations\n",
    "from sklearn.model_selection import train_test_split\n",
    "\n",
    "df = get_annotations('../dataset/annotations.csv')\n",
    "types = get_annotations_types(df)\n",
    "\n",
    "df1 = types[0]\n",
    "\n",
    "train, test = train_test_split(df1, random_state=15, train_size=0.7)\n",
    "\n",
    "# print(train['filename'])\n",
    "print(test['filename'].values)\n",
    "\n"
   ]
  },
  {
   "cell_type": "code",
   "execution_count": 1,
   "metadata": {},
   "outputs": [
    {
     "name": "stdout",
     "output_type": "stream",
     "text": [
      "     type             filename                                    filepath\n",
      "0   angry  YAF_shack_angry.wav  ./../data_folder/angry/YAF_shack_angry.wav\n",
      "1   angry   YAF_pool_angry.wav   ./../data_folder/angry/YAF_pool_angry.wav\n",
      "2   angry  YAF_shall_angry.wav  ./../data_folder/angry/YAF_shall_angry.wav\n",
      "3   angry   YAF_page_angry.wav   ./../data_folder/angry/YAF_page_angry.wav\n",
      "4   angry  YAF_perch_angry.wav  ./../data_folder/angry/YAF_perch_angry.wav\n",
      "..    ...                  ...                                         ...\n",
      "65  angry   YAF_size_angry.wav   ./../data_folder/angry/YAF_size_angry.wav\n",
      "66  angry   YAF_wife_angry.wav   ./../data_folder/angry/YAF_wife_angry.wav\n",
      "67  angry   YAF_moon_angry.wav   ./../data_folder/angry/YAF_moon_angry.wav\n",
      "68  angry   YAF_ring_angry.wav   ./../data_folder/angry/YAF_ring_angry.wav\n",
      "69  angry    YAF_nag_angry.wav    ./../data_folder/angry/YAF_nag_angry.wav\n",
      "\n",
      "[70 rows x 3 columns]\n",
      "    type            filename                                  filepath\n",
      "0   fear   YAF_week_fear.wav   ./../data_folder/fear/YAF_week_fear.wav\n",
      "1   fear    YAF_sub_fear.wav    ./../data_folder/fear/YAF_sub_fear.wav\n",
      "2   fear   YAF_wash_fear.wav   ./../data_folder/fear/YAF_wash_fear.wav\n",
      "3   fear   YAF_pass_fear.wav   ./../data_folder/fear/YAF_pass_fear.wav\n",
      "4   fear  YAF_witch_fear.wav  ./../data_folder/fear/YAF_witch_fear.wav\n",
      "..   ...                 ...                                       ...\n",
      "65  fear   YAF_said_fear.wav   ./../data_folder/fear/YAF_said_fear.wav\n",
      "66  fear  YAF_which_fear.wav  ./../data_folder/fear/YAF_which_fear.wav\n",
      "67  fear   YAF_take_fear.wav   ./../data_folder/fear/YAF_take_fear.wav\n",
      "68  fear   YAF_wife_fear.wav   ./../data_folder/fear/YAF_wife_fear.wav\n",
      "69  fear   YAF_room_fear.wav   ./../data_folder/fear/YAF_room_fear.wav\n",
      "\n",
      "[70 rows x 3 columns]\n",
      "     type            filename                                   filepath\n",
      "0   happy   YAF_tip_happy.wav   ./../data_folder/happy/YAF_tip_happy.wav\n",
      "1   happy   YAF_ton_happy.wav   ./../data_folder/happy/YAF_ton_happy.wav\n",
      "2   happy  YAF_note_happy.wav  ./../data_folder/happy/YAF_note_happy.wav\n",
      "3   happy  YAF_page_happy.wav  ./../data_folder/happy/YAF_page_happy.wav\n",
      "4   happy  YAF_raid_happy.wav  ./../data_folder/happy/YAF_raid_happy.wav\n",
      "..    ...                 ...                                        ...\n",
      "65  happy  YAF_mill_happy.wav  ./../data_folder/happy/YAF_mill_happy.wav\n",
      "66  happy  YAF_name_happy.wav  ./../data_folder/happy/YAF_name_happy.wav\n",
      "67  happy  YAF_tire_happy.wav  ./../data_folder/happy/YAF_tire_happy.wav\n",
      "68  happy   YAF_nag_happy.wav   ./../data_folder/happy/YAF_nag_happy.wav\n",
      "69  happy   YAF_met_happy.wav   ./../data_folder/happy/YAF_met_happy.wav\n",
      "\n",
      "[70 rows x 3 columns]\n",
      "   type           filename                                filepath\n",
      "0   sad  YAF_reach_sad.wav  ./../data_folder/sad/YAF_reach_sad.wav\n",
      "1   sad   YAF_when_sad.wav   ./../data_folder/sad/YAF_when_sad.wav\n",
      "2   sad    YAF_tip_sad.wav    ./../data_folder/sad/YAF_tip_sad.wav\n",
      "3   sad   YAF_ripe_sad.wav   ./../data_folder/sad/YAF_ripe_sad.wav\n",
      "4   sad   YAF_ring_sad.wav   ./../data_folder/sad/YAF_ring_sad.wav\n",
      "..  ...                ...                                     ...\n",
      "65  sad   YAF_such_sad.wav   ./../data_folder/sad/YAF_such_sad.wav\n",
      "66  sad  YAF_tough_sad.wav  ./../data_folder/sad/YAF_tough_sad.wav\n",
      "67  sad   YAF_pass_sad.wav   ./../data_folder/sad/YAF_pass_sad.wav\n",
      "68  sad    YAF_rat_sad.wav    ./../data_folder/sad/YAF_rat_sad.wav\n",
      "69  sad   YAF_tool_sad.wav   ./../data_folder/sad/YAF_tool_sad.wav\n",
      "\n",
      "[70 rows x 3 columns]\n"
     ]
    }
   ],
   "source": [
    "from utils.create_dataset import split_data\n",
    "\n",
    "split_data('../dataset/annotations.csv')\n"
   ]
  },
  {
   "cell_type": "code",
   "execution_count": 2,
   "metadata": {},
   "outputs": [
    {
     "name": "stdout",
     "output_type": "stream",
     "text": [
      "100\n"
     ]
    }
   ],
   "source": [
    "import os\n",
    "\n",
    "angry = os.listdir(\"../dataset/train/angry/\")\n",
    "print(len(angry))"
   ]
  }
 ],
 "metadata": {
  "kernelspec": {
   "display_name": "MML",
   "language": "python",
   "name": "python3"
  },
  "language_info": {
   "codemirror_mode": {
    "name": "ipython",
    "version": 3
   },
   "file_extension": ".py",
   "mimetype": "text/x-python",
   "name": "python",
   "nbconvert_exporter": "python",
   "pygments_lexer": "ipython3",
   "version": "3.10.4"
  },
  "orig_nbformat": 4
 },
 "nbformat": 4,
 "nbformat_minor": 2
}
