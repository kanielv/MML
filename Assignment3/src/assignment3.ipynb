{
 "cells": [
  {
   "cell_type": "code",
   "execution_count": null,
   "metadata": {},
   "outputs": [],
   "source": []
  },
  {
   "attachments": {},
   "cell_type": "markdown",
   "metadata": {},
   "source": [
    "### Step 1: Data Pre-Processing and Exploration"
   ]
  },
  {
   "cell_type": "code",
   "execution_count": null,
   "metadata": {},
   "outputs": [],
   "source": [
    "# Create Annotation File from the dataset\n",
    "\n",
    "from utils.create_dataset import create_annotation_file\n",
    "fp = \"./../data_folder/\"\n",
    "create_annotation_file(fp)\n"
   ]
  },
  {
   "cell_type": "code",
   "execution_count": null,
   "metadata": {},
   "outputs": [],
   "source": [
    "# Create Test Train Split out of dataset\n",
    "from utils.create_dataset import get_annotations_types, get_annotations\n",
    "df = get_annotations('../dataset/annotations.csv')\n",
    "types = get_annotations_types(df)\n",
    "\n",
    "samples = []\n",
    "for type in types:\n",
    "    df = type.sample(n=2)\n",
    "    samples.append(df)\n",
    "\n",
    "print(samples)"
   ]
  },
  {
   "cell_type": "code",
   "execution_count": null,
   "metadata": {},
   "outputs": [],
   "source": [
    "import numpy as np\n",
    "import pandas as pd\n",
    "from sklearn.model_selection import train_test_split\n",
    "\n",
    "df = get_annotations('../dataset/annotations.csv')\n",
    "types = get_annotations_types(df)\n",
    "\n",
    "df1 = types[0]\n",
    "\n",
    "train, test = train_test_split(df1, shuffle=True, train_size=0.7)\n",
    "\n",
    "print(train['filename'])\n",
    "\n"
   ]
  },
  {
   "cell_type": "code",
   "execution_count": 1,
   "metadata": {},
   "outputs": [
    {
     "name": "stderr",
     "output_type": "stream",
     "text": [
      "  0%|          | 0/4 [00:00<?, ?it/s]\n"
     ]
    },
    {
     "ename": "FileNotFoundError",
     "evalue": "[Errno 2] No such file or directory: '../../dataset/train/angry'",
     "output_type": "error",
     "traceback": [
      "\u001b[0;31m---------------------------------------------------------------------------\u001b[0m",
      "\u001b[0;31mFileNotFoundError\u001b[0m                         Traceback (most recent call last)",
      "Cell \u001b[0;32mIn[1], line 3\u001b[0m\n\u001b[1;32m      1\u001b[0m \u001b[39mfrom\u001b[39;00m \u001b[39mutils\u001b[39;00m\u001b[39m.\u001b[39;00m\u001b[39mcreate_dataset\u001b[39;00m \u001b[39mimport\u001b[39;00m split_data\n\u001b[0;32m----> 3\u001b[0m split_data(\u001b[39m'\u001b[39;49m\u001b[39m../dataset/annotations.csv\u001b[39;49m\u001b[39m'\u001b[39;49m)\n",
      "File \u001b[0;32m~/projects/MML/Assignment3/src/utils/create_dataset.py:54\u001b[0m, in \u001b[0;36msplit_data\u001b[0;34m(csv_path)\u001b[0m\n\u001b[1;32m     50\u001b[0m test \u001b[39m=\u001b[39m \u001b[39mtype\u001b[39m\u001b[39m.\u001b[39mreset_index()\n\u001b[1;32m     52\u001b[0m \u001b[39mfor\u001b[39;00m idx, row \u001b[39min\u001b[39;00m train\u001b[39m.\u001b[39miterrows():\n\u001b[1;32m     53\u001b[0m     \u001b[39m# print(row['filepath'], train_path + '/' + row['type'])\u001b[39;00m\n\u001b[0;32m---> 54\u001b[0m     shutil\u001b[39m.\u001b[39;49mcopy(row[\u001b[39m'\u001b[39;49m\u001b[39mfilepath\u001b[39;49m\u001b[39m'\u001b[39;49m], train_path \u001b[39m+\u001b[39;49m \u001b[39m'\u001b[39;49m\u001b[39m/\u001b[39;49m\u001b[39m'\u001b[39;49m \u001b[39m+\u001b[39;49m row[\u001b[39m'\u001b[39;49m\u001b[39mtype\u001b[39;49m\u001b[39m'\u001b[39;49m])\n\u001b[1;32m     55\u001b[0m \u001b[39mfor\u001b[39;00m idx, row \u001b[39min\u001b[39;00m test\u001b[39m.\u001b[39miterrows():\n\u001b[1;32m     56\u001b[0m     shutil\u001b[39m.\u001b[39mcopy(row[\u001b[39m'\u001b[39m\u001b[39mfilepath\u001b[39m\u001b[39m'\u001b[39m], test_path \u001b[39m+\u001b[39m \u001b[39m'\u001b[39m\u001b[39m/\u001b[39m\u001b[39m'\u001b[39m \u001b[39m+\u001b[39m row[\u001b[39m'\u001b[39m\u001b[39mtype\u001b[39m\u001b[39m'\u001b[39m])\n",
      "File \u001b[0;32m~/anaconda3/envs/MML/lib/python3.10/shutil.py:417\u001b[0m, in \u001b[0;36mcopy\u001b[0;34m(src, dst, follow_symlinks)\u001b[0m\n\u001b[1;32m    415\u001b[0m \u001b[39mif\u001b[39;00m os\u001b[39m.\u001b[39mpath\u001b[39m.\u001b[39misdir(dst):\n\u001b[1;32m    416\u001b[0m     dst \u001b[39m=\u001b[39m os\u001b[39m.\u001b[39mpath\u001b[39m.\u001b[39mjoin(dst, os\u001b[39m.\u001b[39mpath\u001b[39m.\u001b[39mbasename(src))\n\u001b[0;32m--> 417\u001b[0m copyfile(src, dst, follow_symlinks\u001b[39m=\u001b[39;49mfollow_symlinks)\n\u001b[1;32m    418\u001b[0m copymode(src, dst, follow_symlinks\u001b[39m=\u001b[39mfollow_symlinks)\n\u001b[1;32m    419\u001b[0m \u001b[39mreturn\u001b[39;00m dst\n",
      "File \u001b[0;32m~/anaconda3/envs/MML/lib/python3.10/shutil.py:256\u001b[0m, in \u001b[0;36mcopyfile\u001b[0;34m(src, dst, follow_symlinks)\u001b[0m\n\u001b[1;32m    254\u001b[0m \u001b[39mwith\u001b[39;00m \u001b[39mopen\u001b[39m(src, \u001b[39m'\u001b[39m\u001b[39mrb\u001b[39m\u001b[39m'\u001b[39m) \u001b[39mas\u001b[39;00m fsrc:\n\u001b[1;32m    255\u001b[0m     \u001b[39mtry\u001b[39;00m:\n\u001b[0;32m--> 256\u001b[0m         \u001b[39mwith\u001b[39;00m \u001b[39mopen\u001b[39;49m(dst, \u001b[39m'\u001b[39;49m\u001b[39mwb\u001b[39;49m\u001b[39m'\u001b[39;49m) \u001b[39mas\u001b[39;00m fdst:\n\u001b[1;32m    257\u001b[0m             \u001b[39m# macOS\u001b[39;00m\n\u001b[1;32m    258\u001b[0m             \u001b[39mif\u001b[39;00m _HAS_FCOPYFILE:\n\u001b[1;32m    259\u001b[0m                 \u001b[39mtry\u001b[39;00m:\n",
      "\u001b[0;31mFileNotFoundError\u001b[0m: [Errno 2] No such file or directory: '../../dataset/train/angry'"
     ]
    }
   ],
   "source": [
    "from utils.create_dataset import split_data\n",
    "\n",
    "split_data('../dataset/annotations.csv')\n"
   ]
  }
 ],
 "metadata": {
  "kernelspec": {
   "display_name": "MML",
   "language": "python",
   "name": "python3"
  },
  "language_info": {
   "codemirror_mode": {
    "name": "ipython",
    "version": 3
   },
   "file_extension": ".py",
   "mimetype": "text/x-python",
   "name": "python",
   "nbconvert_exporter": "python",
   "pygments_lexer": "ipython3",
   "version": "3.10.4"
  },
  "orig_nbformat": 4
 },
 "nbformat": 4,
 "nbformat_minor": 2
}
